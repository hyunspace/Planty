version https://git-lfs.github.com/spec/v1
oid sha256:71cf35dea6a9bf43decf2a7d78618c53f15cf44065a635f7e8ce01e23d2d1429
size 46458
