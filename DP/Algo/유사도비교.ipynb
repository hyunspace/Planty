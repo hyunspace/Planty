version https://git-lfs.github.com/spec/v1
oid sha256:6199c7bde7c91ca6bb96979b449a74e9a2cfc258eb2047ac59a6fe11f3791bc1
size 44458
